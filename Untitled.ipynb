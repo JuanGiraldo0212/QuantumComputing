{
 "cells": [
  {
   "cell_type": "markdown",
   "id": "velvet-retention",
   "metadata": {},
   "source": [
    "# Qiskit IBM certification training"
   ]
  },
  {
   "cell_type": "markdown",
   "id": "changed-summary",
   "metadata": {},
   "source": [
    "This is a notebook containing a recapitulation of the information presented in the Qiskit notebook, including the solution to most of the exercices proposed."
   ]
  },
  {
   "cell_type": "markdown",
   "id": "breeding-knock",
   "metadata": {},
   "source": [
    "## The basics"
   ]
  },
  {
   "cell_type": "markdown",
   "id": "interim-medium",
   "metadata": {},
   "source": [
    "### Qubit"
   ]
  },
  {
   "cell_type": "markdown",
   "id": "clear-doctor",
   "metadata": {},
   "source": [
    "The most basic unit of information in quantum computing is the qubit. Leveraging the properties of quantum mechanics the qubit can be in a single state (1 or 0) or in a superposition of both, represented by the linear conbination of the states."
   ]
  },
  {
   "cell_type": "markdown",
   "id": "incorporated-appreciation",
   "metadata": {},
   "source": [
    "In quantum mecanincs the \"Dirac notation\" is used to represent quantum states."
   ]
  },
  {
   "cell_type": "markdown",
   "id": "sonic-fundamentals",
   "metadata": {},
   "source": [
    "* |a> = (a1,a2) is called a ket \n",
    "* <a| = (a1,a2)+ is called a bra and represents the complex conjugated\n",
    "* <b|a> = a1xb1 + a2xb2 is called a bra-ket"
   ]
  },
  {
   "cell_type": "markdown",
   "id": "stunning-gambling",
   "metadata": {},
   "source": [
    "### Quantum circuit"
   ]
  },
  {
   "cell_type": "code",
   "execution_count": null,
   "id": "specified-transfer",
   "metadata": {},
   "outputs": [],
   "source": []
  }
 ],
 "metadata": {
  "kernelspec": {
   "display_name": "Python 3",
   "language": "python",
   "name": "python3"
  },
  "language_info": {
   "codemirror_mode": {
    "name": "ipython",
    "version": 3
   },
   "file_extension": ".py",
   "mimetype": "text/x-python",
   "name": "python",
   "nbconvert_exporter": "python",
   "pygments_lexer": "ipython3",
   "version": "3.9.2"
  }
 },
 "nbformat": 4,
 "nbformat_minor": 5
}
